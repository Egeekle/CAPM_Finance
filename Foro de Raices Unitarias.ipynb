{
 "cells": [
  {
   "cell_type": "markdown",
   "metadata": {},
   "source": [
    "# Primer Foro de Econometria 3 \n"
   ]
  },
  {
   "cell_type": "markdown",
   "metadata": {},
   "source": [
    "1. Cuales son las pruebas de raíces unitarias y sus características principales"
   ]
  },
  {
   "cell_type": "markdown",
   "metadata": {},
   "source": [
    "Las series de tiempo cumplen condiciones estacionarias si es que a medida que vayamos rezagando la expresion,veremos  que los efectos marginales deban ser menos iguales a 1 para que cada vez los nuevos errores sean geometricamente menor.Luego a medida que se rezaga infinitas veces sea el valor Yt converga en algun valor fijo en la medida que el rezago aumenta."
   ]
  },
  {
   "cell_type": "markdown",
   "metadata": {},
   "source": [
    "$$\n",
    "y_{t} = a_{0}[1 + a_{1}^2 + \\ldots + a_{1}^m] + \\sum_{i=0}^{m} a_{1}^i \\varepsilon_{t-i} + a_{1}^{m+1} y_{t-m-1}\n",
    "$$\n"
   ]
  },
  {
   "cell_type": "markdown",
   "metadata": {},
   "source": [
    "Luego a medida que se rezaga infinitas veces sea el valor Yt converga en algun valor fijo en la medida que el rezago aumenta."
   ]
  },
  {
   "cell_type": "markdown",
   "metadata": {},
   "source": [
    "$$\n",
    "y_{t}=\\frac{a_{0}}{1-a_{1}}+\\sum_{i=0}^\\infty a_{1}^i\\varepsilon_{t-i}\n",
    "$$"
   ]
  },
  {
   "cell_type": "markdown",
   "metadata": {},
   "source": [
    "Sin embargo aun existe posibilidad de involucrarse con procesos estocaticos mas complejos,por que ello es que las pruebas de raices unitarias,ya que son un conjunto de técnicas estadísticas que se utilizan para determinar si una serie temporal es estacionaria o no estacionaria. Una serie temporal es estacionaria si su media y varianza son constantes a lo largo del tiempo. Si una serie temporal no es estacionaria, entonces se dice que es no estacionaria.\n",
    "\n",
    "Existen varias pruebas de raíces unitarias diferentes, pero las más comunes son la prueba de Dickey-Fuller aumentada (ADF) y la prueba de Kwiatkowski-Phillips-Schmidt-Shin (KPSS). La prueba ADF es una prueba de hipótesis nula que supone que la serie temporal es no estacionaria y luego intenta rechazar esa hipótesis. La prueba KPSS es una prueba de hipótesis nula que supone que la serie temporal es estacionaria y luego intenta rechazar esa hipótesis.\n",
    "\n",
    "La prueba ADF es más potente que la prueba KPSS, pero también es más sensible a los errores de especificación del modelo. La prueba KPSS es menos potente que la prueba ADF, pero también es menos sensible a los errores de especificación del modelo.\n",
    "\n",
    "A continuación se presentan las características principales de las pruebas de raíces unitarias:\n",
    "\n",
    "* Las pruebas de raíces unitarias se utilizan para determinar si una serie temporal es estacionaria o no estacionaria.\n",
    "* La prueba ADF es una prueba de hipótesis nula que supone que la serie temporal es no estacionaria y luego intenta rechazar esa hipótesis.\n",
    "* La prueba KPSS es una prueba de hipótesis nula que supone que la serie temporal es estacionaria y luego intenta rechazar esa hipótesis.\n",
    "* La prueba ADF es más potente que la prueba KPSS, pero también es más sensible a los errores de especificación del modelo.\n",
    "* La prueba KPSS es menos potente que la prueba ADF, pero también es menos sensible a los errores de especificación del modelo."
   ]
  },
  {
   "cell_type": "markdown",
   "metadata": {},
   "source": []
  },
  {
   "cell_type": "code",
   "execution_count": 4,
   "metadata": {},
   "outputs": [
    {
     "data": {
      "text/html": [
       "<div>\n",
       "<style scoped>\n",
       "    .dataframe tbody tr th:only-of-type {\n",
       "        vertical-align: middle;\n",
       "    }\n",
       "\n",
       "    .dataframe tbody tr th {\n",
       "        vertical-align: top;\n",
       "    }\n",
       "\n",
       "    .dataframe thead th {\n",
       "        text-align: right;\n",
       "    }\n",
       "</style>\n",
       "<table border=\"1\" class=\"dataframe\">\n",
       "  <thead>\n",
       "    <tr style=\"text-align: right;\">\n",
       "      <th></th>\n",
       "      <th>SPY</th>\n",
       "      <th>JPM</th>\n",
       "    </tr>\n",
       "    <tr>\n",
       "      <th>Date</th>\n",
       "      <th></th>\n",
       "      <th></th>\n",
       "    </tr>\n",
       "  </thead>\n",
       "  <tbody>\n",
       "    <tr>\n",
       "      <th>1993-01-29</th>\n",
       "      <td>25.029371</td>\n",
       "      <td>5.512947</td>\n",
       "    </tr>\n",
       "    <tr>\n",
       "      <th>1993-02-01</th>\n",
       "      <td>25.207396</td>\n",
       "      <td>5.563839</td>\n",
       "    </tr>\n",
       "    <tr>\n",
       "      <th>1993-02-02</th>\n",
       "      <td>25.260782</td>\n",
       "      <td>5.580800</td>\n",
       "    </tr>\n",
       "    <tr>\n",
       "      <th>1993-02-03</th>\n",
       "      <td>25.527830</td>\n",
       "      <td>5.648649</td>\n",
       "    </tr>\n",
       "    <tr>\n",
       "      <th>1993-02-04</th>\n",
       "      <td>25.634630</td>\n",
       "      <td>5.716505</td>\n",
       "    </tr>\n",
       "    <tr>\n",
       "      <th>...</th>\n",
       "      <td>...</td>\n",
       "      <td>...</td>\n",
       "    </tr>\n",
       "    <tr>\n",
       "      <th>2023-09-01</th>\n",
       "      <td>451.190002</td>\n",
       "      <td>146.820007</td>\n",
       "    </tr>\n",
       "    <tr>\n",
       "      <th>2023-09-05</th>\n",
       "      <td>449.239990</td>\n",
       "      <td>145.199997</td>\n",
       "    </tr>\n",
       "    <tr>\n",
       "      <th>2023-09-06</th>\n",
       "      <td>446.220001</td>\n",
       "      <td>144.960007</td>\n",
       "    </tr>\n",
       "    <tr>\n",
       "      <th>2023-09-07</th>\n",
       "      <td>444.850006</td>\n",
       "      <td>143.720001</td>\n",
       "    </tr>\n",
       "    <tr>\n",
       "      <th>2023-09-08</th>\n",
       "      <td>445.519989</td>\n",
       "      <td>143.830002</td>\n",
       "    </tr>\n",
       "  </tbody>\n",
       "</table>\n",
       "<p>7708 rows × 2 columns</p>\n",
       "</div>"
      ],
      "text/plain": [
       "                   SPY         JPM\n",
       "Date                              \n",
       "1993-01-29   25.029371    5.512947\n",
       "1993-02-01   25.207396    5.563839\n",
       "1993-02-02   25.260782    5.580800\n",
       "1993-02-03   25.527830    5.648649\n",
       "1993-02-04   25.634630    5.716505\n",
       "...                ...         ...\n",
       "2023-09-01  451.190002  146.820007\n",
       "2023-09-05  449.239990  145.199997\n",
       "2023-09-06  446.220001  144.960007\n",
       "2023-09-07  444.850006  143.720001\n",
       "2023-09-08  445.519989  143.830002\n",
       "\n",
       "[7708 rows x 2 columns]"
      ]
     },
     "metadata": {},
     "output_type": "display_data"
    }
   ],
   "source": [
    "import pandas as pd\n",
    "import yfinance as yf\n",
    "tickers = ['SPY','JPM']\n",
    "serie_temporal = pd.DataFrame()\n",
    "for t in tickers:\n",
    "     serie_temporal[t]=tickers_data=yf.download(t, start=\"1993-01-29\", progress=False)['Adj Close']\n",
    "\n",
    "display(serie_temporal)"
   ]
  },
  {
   "cell_type": "markdown",
   "metadata": {},
   "source": [
    "## Prueba de Dickey-Fuller:"
   ]
  },
  {
   "cell_type": "markdown",
   "metadata": {},
   "source": [
    "La Prueba de Dickey-Fuller se utiliza para verificar si una serie temporal tiene una raíz unitaria"
   ]
  },
  {
   "cell_type": "markdown",
   "metadata": {},
   "source": [
    "2. Que  comandos se utilizan  para hacer las diferentes pruebas de raíces unitarias en Júpiter o Colab"
   ]
  },
  {
   "cell_type": "markdown",
   "metadata": {},
   "source": [
    "En Jupyter Notebook o Google Colab, puedes realizar pruebas de raíces unitarias utilizando bibliotecas de Python como statsmodels"
   ]
  },
  {
   "cell_type": "code",
   "execution_count": 10,
   "metadata": {},
   "outputs": [
    {
     "name": "stdout",
     "output_type": "stream",
     "text": [
      "Estadística de prueba: 1.9454623930974209\n",
      "Valor crítico 1%: -3.431202755780382\n",
      "Valor crítico 5%: -2.8619168547294147\n",
      "Valor crítico 10%: -2.5669705952528132\n",
      "P-valor: 0.9985977522624778\n",
      "La serie no es estacionaria (con raíz unitaria)\n"
     ]
    }
   ],
   "source": [
    "import statsmodels.api as sm\n",
    "from statsmodels.tsa.stattools import adfuller\n",
    "\n",
    "# Supongamos que 'serie_temporal' es tu serie de tiempo\n",
    "resultado = adfuller(serie_temporal.SPY)\n",
    "print(\"Estadística de prueba:\", resultado[0])\n",
    "print(\"Valor crítico 1%:\", resultado[4]['1%'])\n",
    "print(\"Valor crítico 5%:\", resultado[4]['5%'])\n",
    "print(\"Valor crítico 10%:\", resultado[4]['10%'])\n",
    "print(\"P-valor:\", resultado[1])\n",
    "\n",
    "if resultado[1] <= 0.05:\n",
    "    print(\"La serie es estacionaria (sin raíz unitaria)\")\n",
    "else:\n",
    "    print(\"La serie no es estacionaria (con raíz unitaria)\")\n"
   ]
  },
  {
   "cell_type": "code",
   "execution_count": 11,
   "metadata": {},
   "outputs": [
    {
     "name": "stdout",
     "output_type": "stream",
     "text": [
      "Estadística de prueba: 0.2518153873411093\n",
      "Valor crítico 1%: -3.4312024223006006\n",
      "Valor crítico 5%: -2.8619167073772522\n",
      "Valor crítico 10%: -2.5669705168153736\n",
      "P-valor: 0.97502253417558\n",
      "La serie no es estacionaria (con raíz unitaria)\n"
     ]
    }
   ],
   "source": [
    "resultado = adfuller(serie_temporal.JPM)\n",
    "print(\"Estadística de prueba:\", resultado[0])\n",
    "print(\"Valor crítico 1%:\", resultado[4]['1%'])\n",
    "print(\"Valor crítico 5%:\", resultado[4]['5%'])\n",
    "print(\"Valor crítico 10%:\", resultado[4]['10%'])\n",
    "print(\"P-valor:\", resultado[1])\n",
    "\n",
    "if resultado[1] <= 0.05:\n",
    "    print(\"La serie es estacionaria (sin raíz unitaria)\")\n",
    "else:\n",
    "    print(\"La serie no es estacionaria (con raíz unitaria)\")"
   ]
  },
  {
   "cell_type": "markdown",
   "metadata": {},
   "source": [
    "3. En que consiste en problema de quiebre estructural en series de tiempo y cuales son sus pruebas estadísticas para detectarlas"
   ]
  }
 ],
 "metadata": {
  "kernelspec": {
   "display_name": "Python 3 (ipykernel)",
   "language": "python",
   "name": "python3"
  },
  "language_info": {
   "codemirror_mode": {
    "name": "ipython",
    "version": 3
   },
   "file_extension": ".py",
   "mimetype": "text/x-python",
   "name": "python",
   "nbconvert_exporter": "python",
   "pygments_lexer": "ipython3",
   "version": "3.10.11"
  }
 },
 "nbformat": 4,
 "nbformat_minor": 2
}
