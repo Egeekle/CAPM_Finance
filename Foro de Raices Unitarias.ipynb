{
 "cells": [
  {
   "cell_type": "markdown",
   "metadata": {},
   "source": [
    "# Primer Foro de Econometria 3 \n"
   ]
  },
  {
   "cell_type": "markdown",
   "metadata": {},
   "source": [
    "1. Cuales son las pruebas de raíces unitarias y sus características principales"
   ]
  },
  {
   "cell_type": "code",
   "execution_count": null,
   "metadata": {},
   "outputs": [],
   "source": [
    "import pandas as pd\n",
    "import yfinance as yf\n",
    "tickers = ['SPY','JPM']\n",
    "serie_temporal = pd.DataFrame()\n",
    "for t in tickers:\n",
    "     serie_temporal[t]=tickers_data=yf.download(t, start=\"1993-01-29\", progress=False)['Adj Close']\n",
    "\n",
    "display(serie_temporal)"
   ]
  },
  {
   "cell_type": "markdown",
   "metadata": {},
   "source": [
    "## Prueba de Dickey-Fuller:"
   ]
  },
  {
   "cell_type": "markdown",
   "metadata": {},
   "source": [
    "La Prueba de Dickey-Fuller se utiliza para verificar si una serie temporal tiene una raíz unitaria"
   ]
  },
  {
   "cell_type": "markdown",
   "metadata": {},
   "source": [
    "2. Que  comandos se utilizan  para hacer las diferentes pruebas de raíces unitarias en Júpiter o Colab"
   ]
  },
  {
   "cell_type": "markdown",
   "metadata": {},
   "source": [
    "En Jupyter Notebook o Google Colab, puedes realizar pruebas de raíces unitarias utilizando bibliotecas de Python como statsmodels"
   ]
  },
  {
   "cell_type": "code",
   "execution_count": null,
   "metadata": {},
   "outputs": [],
   "source": [
    "import statsmodels.api as sm\n",
    "from statsmodels.tsa.stattools import adfuller\n",
    "\n",
    "# Supongamos que 'serie_temporal' es tu serie de tiempo\n",
    "resultado = adfuller(serie_temporal)\n",
    "print(\"Estadística de prueba:\", resultado[0])\n",
    "print(\"Valor crítico 1%:\", resultado[4]['1%'])\n",
    "print(\"Valor crítico 5%:\", resultado[4]['5%'])\n",
    "print(\"Valor crítico 10%:\", resultado[4]['10%'])\n",
    "print(\"P-valor:\", resultado[1])\n",
    "\n",
    "if resultado[1] <= 0.05:\n",
    "    print(\"La serie es estacionaria (sin raíz unitaria)\")\n",
    "else:\n",
    "    print(\"La serie no es estacionaria (con raíz unitaria)\")\n"
   ]
  },
  {
   "cell_type": "code",
   "execution_count": null,
   "metadata": {},
   "outputs": [],
   "source": []
  },
  {
   "cell_type": "markdown",
   "metadata": {},
   "source": [
    "3. En que consiste en problema de quiebre estructural en series de tiempo y cuales son sus pruebas estadísticas para detectarlas"
   ]
  }
 ],
 "metadata": {
  "language_info": {
   "name": "python"
  },
  "orig_nbformat": 4
 },
 "nbformat": 4,
 "nbformat_minor": 2
}
