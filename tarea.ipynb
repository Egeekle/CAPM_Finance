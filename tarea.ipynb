{
  "cells": [
    {
      "cell_type": "markdown",
      "metadata": {
        "id": "A7RXafw7M5Qx"
      },
      "source": [
        " # 1.Precios de Spy y JP Morgan"
      ]
    },
    {
      "cell_type": "code",
      "execution_count": 9,
      "metadata": {
        "cellView": "form",
        "id": "x64PwEbsM5Q2"
      },
      "outputs": [
        {
          "name": "stdout",
          "output_type": "stream",
          "text": [
            "Requirement already satisfied: yfinance in c:\\users\\ediso\\appdata\\local\\packages\\pythonsoftwarefoundation.python.3.10_qbz5n2kfra8p0\\localcache\\local-packages\\python310\\site-packages (0.2.28)"
          ]
        },
        {
          "name": "stderr",
          "output_type": "stream",
          "text": [
            "\n",
            "[notice] A new release of pip is available: 23.0.1 -> 23.2.1\n",
            "[notice] To update, run: C:\\Users\\ediso\\AppData\\Local\\Microsoft\\WindowsApps\\PythonSoftwareFoundation.Python.3.10_qbz5n2kfra8p0\\python.exe -m pip install --upgrade pip\n"
          ]
        },
        {
          "name": "stdout",
          "output_type": "stream",
          "text": [
            "\n",
            "Requirement already satisfied: requests>=2.31 in c:\\users\\ediso\\appdata\\local\\packages\\pythonsoftwarefoundation.python.3.10_qbz5n2kfra8p0\\localcache\\local-packages\\python310\\site-packages (from yfinance) (2.31.0)\n",
            "Requirement already satisfied: pytz>=2022.5 in c:\\users\\ediso\\appdata\\local\\packages\\pythonsoftwarefoundation.python.3.10_qbz5n2kfra8p0\\localcache\\local-packages\\python310\\site-packages (from yfinance) (2023.3)\n",
            "Requirement already satisfied: frozendict>=2.3.4 in c:\\users\\ediso\\appdata\\local\\packages\\pythonsoftwarefoundation.python.3.10_qbz5n2kfra8p0\\localcache\\local-packages\\python310\\site-packages (from yfinance) (2.3.8)\n",
            "Requirement already satisfied: numpy>=1.16.5 in c:\\users\\ediso\\appdata\\local\\packages\\pythonsoftwarefoundation.python.3.10_qbz5n2kfra8p0\\localcache\\local-packages\\python310\\site-packages (from yfinance) (1.25.0)\n",
            "Requirement already satisfied: multitasking>=0.0.7 in c:\\users\\ediso\\appdata\\local\\packages\\pythonsoftwarefoundation.python.3.10_qbz5n2kfra8p0\\localcache\\local-packages\\python310\\site-packages (from yfinance) (0.0.11)\n",
            "Requirement already satisfied: lxml>=4.9.1 in c:\\users\\ediso\\appdata\\local\\packages\\pythonsoftwarefoundation.python.3.10_qbz5n2kfra8p0\\localcache\\local-packages\\python310\\site-packages (from yfinance) (4.9.3)\n",
            "Requirement already satisfied: appdirs>=1.4.4 in c:\\users\\ediso\\appdata\\local\\packages\\pythonsoftwarefoundation.python.3.10_qbz5n2kfra8p0\\localcache\\local-packages\\python310\\site-packages (from yfinance) (1.4.4)\n",
            "Requirement already satisfied: beautifulsoup4>=4.11.1 in c:\\users\\ediso\\appdata\\local\\packages\\pythonsoftwarefoundation.python.3.10_qbz5n2kfra8p0\\localcache\\local-packages\\python310\\site-packages (from yfinance) (4.12.2)\n",
            "Requirement already satisfied: html5lib>=1.1 in c:\\users\\ediso\\appdata\\local\\packages\\pythonsoftwarefoundation.python.3.10_qbz5n2kfra8p0\\localcache\\local-packages\\python310\\site-packages (from yfinance) (1.1)\n",
            "Requirement already satisfied: pandas>=1.3.0 in c:\\users\\ediso\\appdata\\local\\packages\\pythonsoftwarefoundation.python.3.10_qbz5n2kfra8p0\\localcache\\local-packages\\python310\\site-packages (from yfinance) (2.0.3)\n",
            "Requirement already satisfied: soupsieve>1.2 in c:\\users\\ediso\\appdata\\local\\packages\\pythonsoftwarefoundation.python.3.10_qbz5n2kfra8p0\\localcache\\local-packages\\python310\\site-packages (from beautifulsoup4>=4.11.1->yfinance) (2.5)\n",
            "Requirement already satisfied: six>=1.9 in c:\\users\\ediso\\appdata\\local\\packages\\pythonsoftwarefoundation.python.3.10_qbz5n2kfra8p0\\localcache\\local-packages\\python310\\site-packages (from html5lib>=1.1->yfinance) (1.16.0)\n",
            "Requirement already satisfied: webencodings in c:\\users\\ediso\\appdata\\local\\packages\\pythonsoftwarefoundation.python.3.10_qbz5n2kfra8p0\\localcache\\local-packages\\python310\\site-packages (from html5lib>=1.1->yfinance) (0.5.1)\n",
            "Requirement already satisfied: tzdata>=2022.1 in c:\\users\\ediso\\appdata\\local\\packages\\pythonsoftwarefoundation.python.3.10_qbz5n2kfra8p0\\localcache\\local-packages\\python310\\site-packages (from pandas>=1.3.0->yfinance) (2023.3)\n",
            "Requirement already satisfied: python-dateutil>=2.8.2 in c:\\users\\ediso\\appdata\\local\\packages\\pythonsoftwarefoundation.python.3.10_qbz5n2kfra8p0\\localcache\\local-packages\\python310\\site-packages (from pandas>=1.3.0->yfinance) (2.8.2)\n",
            "Requirement already satisfied: charset-normalizer<4,>=2 in c:\\users\\ediso\\appdata\\local\\packages\\pythonsoftwarefoundation.python.3.10_qbz5n2kfra8p0\\localcache\\local-packages\\python310\\site-packages (from requests>=2.31->yfinance) (3.2.0)\n",
            "Requirement already satisfied: urllib3<3,>=1.21.1 in c:\\users\\ediso\\appdata\\local\\packages\\pythonsoftwarefoundation.python.3.10_qbz5n2kfra8p0\\localcache\\local-packages\\python310\\site-packages (from requests>=2.31->yfinance) (2.0.4)\n",
            "Requirement already satisfied: idna<4,>=2.5 in c:\\users\\ediso\\appdata\\local\\packages\\pythonsoftwarefoundation.python.3.10_qbz5n2kfra8p0\\localcache\\local-packages\\python310\\site-packages (from requests>=2.31->yfinance) (3.4)\n",
            "Requirement already satisfied: certifi>=2017.4.17 in c:\\users\\ediso\\appdata\\local\\packages\\pythonsoftwarefoundation.python.3.10_qbz5n2kfra8p0\\localcache\\local-packages\\python310\\site-packages (from requests>=2.31->yfinance) (2023.7.22)\n",
            "Requirement already satisfied: seaborn in c:\\users\\ediso\\appdata\\local\\packages\\pythonsoftwarefoundation.python.3.10_qbz5n2kfra8p0\\localcache\\local-packages\\python310\\site-packages (0.12.2)\n",
            "Requirement already satisfied: matplotlib!=3.6.1,>=3.1 in c:\\users\\ediso\\appdata\\local\\packages\\pythonsoftwarefoundation.python.3.10_qbz5n2kfra8p0\\localcache\\local-packages\\python310\\site-packages (from seaborn) (3.7.1)\n",
            "Requirement already satisfied: numpy!=1.24.0,>=1.17 in c:\\users\\ediso\\appdata\\local\\packages\\pythonsoftwarefoundation.python.3.10_qbz5n2kfra8p0\\localcache\\local-packages\\python310\\site-packages (from seaborn) (1.25.0)\n",
            "Requirement already satisfied: pandas>=0.25 in c:\\users\\ediso\\appdata\\local\\packages\\pythonsoftwarefoundation.python.3.10_qbz5n2kfra8p0\\localcache\\local-packages\\python310\\site-packages (from seaborn) (2.0.3)\n",
            "Requirement already satisfied: pillow>=6.2.0 in c:\\users\\ediso\\appdata\\local\\packages\\pythonsoftwarefoundation.python.3.10_qbz5n2kfra8p0\\localcache\\local-packages\\python310\\site-packages (from matplotlib!=3.6.1,>=3.1->seaborn) (10.0.0)\n",
            "Requirement already satisfied: packaging>=20.0 in c:\\users\\ediso\\appdata\\local\\packages\\pythonsoftwarefoundation.python.3.10_qbz5n2kfra8p0\\localcache\\local-packages\\python310\\site-packages (from matplotlib!=3.6.1,>=3.1->seaborn) (23.1)\n",
            "Requirement already satisfied: python-dateutil>=2.7 in c:\\users\\ediso\\appdata\\local\\packages\\pythonsoftwarefoundation.python.3.10_qbz5n2kfra8p0\\localcache\\local-packages\\python310\\site-packages (from matplotlib!=3.6.1,>=3.1->seaborn) (2.8.2)\n",
            "Requirement already satisfied: cycler>=0.10 in c:\\users\\ediso\\appdata\\local\\packages\\pythonsoftwarefoundation.python.3.10_qbz5n2kfra8p0\\localcache\\local-packages\\python310\\site-packages (from matplotlib!=3.6.1,>=3.1->seaborn) (0.11.0)\n",
            "Requirement already satisfied: kiwisolver>=1.0.1 in c:\\users\\ediso\\appdata\\local\\packages\\pythonsoftwarefoundation.python.3.10_qbz5n2kfra8p0\\localcache\\local-packages\\python310\\site-packages (from matplotlib!=3.6.1,>=3.1->seaborn) (1.4.4)\n",
            "Requirement already satisfied: fonttools>=4.22.0 in c:\\users\\ediso\\appdata\\local\\packages\\pythonsoftwarefoundation.python.3.10_qbz5n2kfra8p0\\localcache\\local-packages\\python310\\site-packages (from matplotlib!=3.6.1,>=3.1->seaborn) (4.40.0)\n",
            "Requirement already satisfied: contourpy>=1.0.1 in c:\\users\\ediso\\appdata\\local\\packages\\pythonsoftwarefoundation.python.3.10_qbz5n2kfra8p0\\localcache\\local-packages\\python310\\site-packages (from matplotlib!=3.6.1,>=3.1->seaborn) (1.1.0)\n",
            "Requirement already satisfied: pyparsing>=2.3.1 in c:\\users\\ediso\\appdata\\local\\packages\\pythonsoftwarefoundation.python.3.10_qbz5n2kfra8p0\\localcache\\local-packages\\python310\\site-packages (from matplotlib!=3.6.1,>=3.1->seaborn) (3.1.0)\n",
            "Requirement already satisfied: pytz>=2020.1 in c:\\users\\ediso\\appdata\\local\\packages\\pythonsoftwarefoundation.python.3.10_qbz5n2kfra8p0\\localcache\\local-packages\\python310\\site-packages (from pandas>=0.25->seaborn) (2023.3)\n",
            "Requirement already satisfied: tzdata>=2022.1 in c:\\users\\ediso\\appdata\\local\\packages\\pythonsoftwarefoundation.python.3.10_qbz5n2kfra8p0\\localcache\\local-packages\\python310\\site-packages (from pandas>=0.25->seaborn) (2023.3)\n",
            "Requirement already satisfied: six>=1.5 in c:\\users\\ediso\\appdata\\local\\packages\\pythonsoftwarefoundation.python.3.10_qbz5n2kfra8p0\\localcache\\local-packages\\python310\\site-packages (from python-dateutil>=2.7->matplotlib!=3.6.1,>=3.1->seaborn) (1.16.0)\n"
          ]
        },
        {
          "name": "stderr",
          "output_type": "stream",
          "text": [
            "\n",
            "[notice] A new release of pip is available: 23.0.1 -> 23.2.1\n",
            "[notice] To update, run: C:\\Users\\ediso\\AppData\\Local\\Microsoft\\WindowsApps\\PythonSoftwareFoundation.Python.3.10_qbz5n2kfra8p0\\python.exe -m pip install --upgrade pip\n"
          ]
        },
        {
          "name": "stdout",
          "output_type": "stream",
          "text": [
            "Requirement already satisfied: plotly in c:\\users\\ediso\\appdata\\local\\packages\\pythonsoftwarefoundation.python.3.10_qbz5n2kfra8p0\\localcache\\local-packages\\python310\\site-packages (5.16.1)Note: you may need to restart the kernel to use updated packages.\n",
            "\n",
            "Requirement already satisfied: packaging in c:\\users\\ediso\\appdata\\local\\packages\\pythonsoftwarefoundation.python.3.10_qbz5n2kfra8p0\\localcache\\local-packages\\python310\\site-packages (from plotly) (23.1)\n",
            "Requirement already satisfied: tenacity>=6.2.0 in c:\\users\\ediso\\appdata\\local\\packages\\pythonsoftwarefoundation.python.3.10_qbz5n2kfra8p0\\localcache\\local-packages\\python310\\site-packages (from plotly) (8.2.3)\n"
          ]
        },
        {
          "name": "stderr",
          "output_type": "stream",
          "text": [
            "\n",
            "[notice] A new release of pip is available: 23.0.1 -> 23.2.1\n",
            "[notice] To update, run: C:\\Users\\ediso\\AppData\\Local\\Microsoft\\WindowsApps\\PythonSoftwareFoundation.Python.3.10_qbz5n2kfra8p0\\python.exe -m pip install --upgrade pip\n"
          ]
        },
        {
          "name": "stdout",
          "output_type": "stream",
          "text": [
            "Collecting statsmodels\n",
            "  Downloading statsmodels-0.14.0-cp310-cp310-win_amd64.whl (9.2 MB)\n",
            "     ---------------------------------------- 0.0/9.2 MB ? eta -:--:--\n",
            "      --------------------------------------- 0.2/9.2 MB 4.6 MB/s eta 0:00:02\n",
            "     - -------------------------------------- 0.4/9.2 MB 4.6 MB/s eta 0:00:02\n",
            "     -- ------------------------------------- 0.5/9.2 MB 3.6 MB/s eta 0:00:03\n",
            "     --- ------------------------------------ 0.8/9.2 MB 4.1 MB/s eta 0:00:03\n",
            "     ---- ----------------------------------- 1.0/9.2 MB 4.6 MB/s eta 0:00:02\n",
            "     ----- ---------------------------------- 1.2/9.2 MB 4.6 MB/s eta 0:00:02\n",
            "     ------ --------------------------------- 1.5/9.2 MB 4.7 MB/s eta 0:00:02\n",
            "     ------- -------------------------------- 1.7/9.2 MB 4.7 MB/s eta 0:00:02\n",
            "     -------- ------------------------------- 1.9/9.2 MB 4.7 MB/s eta 0:00:02\n",
            "     --------- ------------------------------ 2.1/9.2 MB 4.6 MB/s eta 0:00:02\n",
            "     ---------- ----------------------------- 2.3/9.2 MB 4.6 MB/s eta 0:00:02\n",
            "     ----------- ---------------------------- 2.6/9.2 MB 4.8 MB/s eta 0:00:02\n",
            "     ------------ --------------------------- 2.9/9.2 MB 4.9 MB/s eta 0:00:02\n",
            "     ------------- -------------------------- 3.1/9.2 MB 4.9 MB/s eta 0:00:02\n",
            "     -------------- ------------------------- 3.3/9.2 MB 4.8 MB/s eta 0:00:02\n",
            "     -------------- ------------------------- 3.4/9.2 MB 4.6 MB/s eta 0:00:02\n",
            "     --------------- ------------------------ 3.5/9.2 MB 4.4 MB/s eta 0:00:02\n",
            "     --------------- ------------------------ 3.6/9.2 MB 4.4 MB/s eta 0:00:02\n",
            "     --------------- ------------------------ 3.6/9.2 MB 4.3 MB/s eta 0:00:02\n",
            "     ---------------- ----------------------- 3.8/9.2 MB 4.1 MB/s eta 0:00:02\n",
            "     ---------------- ----------------------- 3.9/9.2 MB 4.0 MB/s eta 0:00:02\n",
            "     ----------------- ---------------------- 4.0/9.2 MB 3.9 MB/s eta 0:00:02\n",
            "     ------------------ --------------------- 4.2/9.2 MB 3.9 MB/s eta 0:00:02\n",
            "     ------------------ --------------------- 4.4/9.2 MB 3.9 MB/s eta 0:00:02\n",
            "     -------------------- ------------------- 4.6/9.2 MB 3.9 MB/s eta 0:00:02\n",
            "     -------------------- ------------------- 4.8/9.2 MB 3.9 MB/s eta 0:00:02\n",
            "     --------------------- ------------------ 4.9/9.2 MB 3.8 MB/s eta 0:00:02\n",
            "     ----------------------- ---------------- 5.3/9.2 MB 4.0 MB/s eta 0:00:01\n",
            "     ------------------------ --------------- 5.7/9.2 MB 4.2 MB/s eta 0:00:01\n",
            "     -------------------------- ------------- 6.0/9.2 MB 4.2 MB/s eta 0:00:01\n",
            "     --------------------------- ------------ 6.4/9.2 MB 4.4 MB/s eta 0:00:01\n",
            "     ---------------------------- ----------- 6.6/9.2 MB 4.4 MB/s eta 0:00:01\n",
            "     ------------------------------ --------- 7.0/9.2 MB 4.5 MB/s eta 0:00:01\n",
            "     -------------------------------- ------- 7.5/9.2 MB 4.6 MB/s eta 0:00:01\n",
            "     --------------------------------- ------ 7.7/9.2 MB 4.7 MB/s eta 0:00:01\n",
            "     ---------------------------------- ----- 8.0/9.2 MB 4.7 MB/s eta 0:00:01\n",
            "     ----------------------------------- ---- 8.3/9.2 MB 4.8 MB/s eta 0:00:01\n",
            "     ------------------------------------- -- 8.7/9.2 MB 4.8 MB/s eta 0:00:01\n",
            "     -------------------------------------- - 9.0/9.2 MB 4.9 MB/s eta 0:00:01\n",
            "     ---------------------------------------  9.2/9.2 MB 4.9 MB/s eta 0:00:01\n",
            "     ---------------------------------------  9.2/9.2 MB 4.9 MB/s eta 0:00:01\n",
            "     ---------------------------------------- 9.2/9.2 MB 4.7 MB/s eta 0:00:00\n",
            "Requirement already satisfied: scipy!=1.9.2,>=1.4 in c:\\users\\ediso\\appdata\\local\\packages\\pythonsoftwarefoundation.python.3.10_qbz5n2kfra8p0\\localcache\\local-packages\\python310\\site-packages (from statsmodels) (1.11.1)\n",
            "Requirement already satisfied: numpy>=1.22.3 in c:\\users\\ediso\\appdata\\local\\packages\\pythonsoftwarefoundation.python.3.10_qbz5n2kfra8p0\\localcache\\local-packages\\python310\\site-packages (from statsmodels) (1.25.0)\n",
            "Collecting patsy>=0.5.2\n",
            "  Using cached patsy-0.5.3-py2.py3-none-any.whl (233 kB)\n",
            "Requirement already satisfied: pandas>=1.0 in c:\\users\\ediso\\appdata\\local\\packages\\pythonsoftwarefoundation.python.3.10_qbz5n2kfra8p0\\localcache\\local-packages\\python310\\site-packages (from statsmodels) (2.0.3)\n",
            "Requirement already satisfied: packaging>=21.3 in c:\\users\\ediso\\appdata\\local\\packages\\pythonsoftwarefoundation.python.3.10_qbz5n2kfra8p0\\localcache\\local-packages\\python310\\site-packages (from statsmodels) (23.1)\n",
            "Requirement already satisfied: tzdata>=2022.1 in c:\\users\\ediso\\appdata\\local\\packages\\pythonsoftwarefoundation.python.3.10_qbz5n2kfra8p0\\localcache\\local-packages\\python310\\site-packages (from pandas>=1.0->statsmodels) (2023.3)\n",
            "Requirement already satisfied: pytz>=2020.1 in c:\\users\\ediso\\appdata\\local\\packages\\pythonsoftwarefoundation.python.3.10_qbz5n2kfra8p0\\localcache\\local-packages\\python310\\site-packages (from pandas>=1.0->statsmodels) (2023.3)\n",
            "Requirement already satisfied: python-dateutil>=2.8.2 in c:\\users\\ediso\\appdata\\local\\packages\\pythonsoftwarefoundation.python.3.10_qbz5n2kfra8p0\\localcache\\local-packages\\python310\\site-packages (from pandas>=1.0->statsmodels) (2.8.2)\n",
            "Requirement already satisfied: six in c:\\users\\ediso\\appdata\\local\\packages\\pythonsoftwarefoundation.python.3.10_qbz5n2kfra8p0\\localcache\\local-packages\\python310\\site-packages (from patsy>=0.5.2->statsmodels) (1.16.0)\n",
            "Installing collected packages: patsy, statsmodels\n",
            "Successfully installed patsy-0.5.3 statsmodels-0.14.0\n",
            "Note: you may need to restart the kernel to use updated packages.\n"
          ]
        },
        {
          "name": "stderr",
          "output_type": "stream",
          "text": [
            "\n",
            "[notice] A new release of pip is available: 23.0.1 -> 23.2.1\n",
            "[notice] To update, run: C:\\Users\\ediso\\AppData\\Local\\Microsoft\\WindowsApps\\PythonSoftwareFoundation.Python.3.10_qbz5n2kfra8p0\\python.exe -m pip install --upgrade pip\n"
          ]
        }
      ],
      "source": [
        "# @title\n",
        "!pip install yfinance\n",
        "!pip  install seaborn\n",
        "%pip install plotly\n",
        "%pip install statsmodels\n"
      ]
    },
    {
      "cell_type": "code",
      "execution_count": 10,
      "metadata": {
        "id": "qL6OZEwWM5Q5"
      },
      "outputs": [],
      "source": [
        "import pandas as pd\n",
        "import yfinance as yf\n",
        "import numpy as np\n",
        "import seaborn as sns\n",
        "import matplotlib.pyplot as plt\n",
        "import plotly.graph_objs as go"
      ]
    },
    {
      "cell_type": "code",
      "execution_count": 11,
      "metadata": {
        "colab": {
          "base_uri": "https://localhost:8080/",
          "height": 455
        },
        "id": "6rkEItF3M5Q6",
        "outputId": "7bac8b45-ae77-475c-c552-48b5680d991b"
      },
      "outputs": [
        {
          "data": {
            "text/html": [
              "<div>\n",
              "<style scoped>\n",
              "    .dataframe tbody tr th:only-of-type {\n",
              "        vertical-align: middle;\n",
              "    }\n",
              "\n",
              "    .dataframe tbody tr th {\n",
              "        vertical-align: top;\n",
              "    }\n",
              "\n",
              "    .dataframe thead th {\n",
              "        text-align: right;\n",
              "    }\n",
              "</style>\n",
              "<table border=\"1\" class=\"dataframe\">\n",
              "  <thead>\n",
              "    <tr style=\"text-align: right;\">\n",
              "      <th></th>\n",
              "      <th>SPY</th>\n",
              "      <th>JPM</th>\n",
              "    </tr>\n",
              "    <tr>\n",
              "      <th>Date</th>\n",
              "      <th></th>\n",
              "      <th></th>\n",
              "    </tr>\n",
              "  </thead>\n",
              "  <tbody>\n",
              "    <tr>\n",
              "      <th>1993-01-29</th>\n",
              "      <td>25.029375</td>\n",
              "      <td>5.512949</td>\n",
              "    </tr>\n",
              "    <tr>\n",
              "      <th>1993-02-01</th>\n",
              "      <td>25.207397</td>\n",
              "      <td>5.563837</td>\n",
              "    </tr>\n",
              "    <tr>\n",
              "      <th>1993-02-02</th>\n",
              "      <td>25.260788</td>\n",
              "      <td>5.580801</td>\n",
              "    </tr>\n",
              "    <tr>\n",
              "      <th>1993-02-03</th>\n",
              "      <td>25.527828</td>\n",
              "      <td>5.648654</td>\n",
              "    </tr>\n",
              "    <tr>\n",
              "      <th>1993-02-04</th>\n",
              "      <td>25.634623</td>\n",
              "      <td>5.716501</td>\n",
              "    </tr>\n",
              "    <tr>\n",
              "      <th>...</th>\n",
              "      <td>...</td>\n",
              "      <td>...</td>\n",
              "    </tr>\n",
              "    <tr>\n",
              "      <th>2023-08-30</th>\n",
              "      <td>451.010010</td>\n",
              "      <td>148.160004</td>\n",
              "    </tr>\n",
              "    <tr>\n",
              "      <th>2023-08-31</th>\n",
              "      <td>450.350006</td>\n",
              "      <td>146.330002</td>\n",
              "    </tr>\n",
              "    <tr>\n",
              "      <th>2023-09-01</th>\n",
              "      <td>451.190002</td>\n",
              "      <td>146.820007</td>\n",
              "    </tr>\n",
              "    <tr>\n",
              "      <th>2023-09-05</th>\n",
              "      <td>449.239990</td>\n",
              "      <td>145.199997</td>\n",
              "    </tr>\n",
              "    <tr>\n",
              "      <th>2023-09-06</th>\n",
              "      <td>446.220001</td>\n",
              "      <td>144.960007</td>\n",
              "    </tr>\n",
              "  </tbody>\n",
              "</table>\n",
              "<p>7706 rows × 2 columns</p>\n",
              "</div>"
            ],
            "text/plain": [
              "                   SPY         JPM\n",
              "Date                              \n",
              "1993-01-29   25.029375    5.512949\n",
              "1993-02-01   25.207397    5.563837\n",
              "1993-02-02   25.260788    5.580801\n",
              "1993-02-03   25.527828    5.648654\n",
              "1993-02-04   25.634623    5.716501\n",
              "...                ...         ...\n",
              "2023-08-30  451.010010  148.160004\n",
              "2023-08-31  450.350006  146.330002\n",
              "2023-09-01  451.190002  146.820007\n",
              "2023-09-05  449.239990  145.199997\n",
              "2023-09-06  446.220001  144.960007\n",
              "\n",
              "[7706 rows x 2 columns]"
            ]
          },
          "metadata": {},
          "output_type": "display_data"
        }
      ],
      "source": [
        "tickers = ['SPY','JPM']\n",
        "data = pd.DataFrame()\n",
        "for t in tickers:\n",
        "     data[t]=tickers_data=yf.download(t, start=\"1993-01-29\", progress=False)['Adj Close']\n",
        "\n",
        "display(data)"
      ]
    },
    {
      "cell_type": "code",
      "execution_count": 12,
      "metadata": {
        "colab": {
          "base_uri": "https://localhost:8080/"
        },
        "id": "baosiZz0M5Q7",
        "outputId": "825a2d90-e5f1-4ea7-f5c9-17d945c349b1"
      },
      "outputs": [
        {
          "name": "stdout",
          "output_type": "stream",
          "text": [
            "<class 'pandas.core.frame.DataFrame'>\n",
            "DatetimeIndex: 7706 entries, 1993-01-29 to 2023-09-06\n",
            "Data columns (total 2 columns):\n",
            " #   Column  Non-Null Count  Dtype  \n",
            "---  ------  --------------  -----  \n",
            " 0   SPY     7706 non-null   float64\n",
            " 1   JPM     7706 non-null   float64\n",
            "dtypes: float64(2)\n",
            "memory usage: 180.6 KB\n"
          ]
        }
      ],
      "source": [
        "data.info()"
      ]
    },
    {
      "cell_type": "markdown",
      "metadata": {
        "id": "ajRm5x3vmEcQ"
      },
      "source": [
        "# 2.Graficas de precios de cierre de los activos financieros y Pruebas de Estacionariedad"
      ]
    },
    {
      "cell_type": "markdown",
      "metadata": {
        "id": "wTyxe9z7S9wi"
      },
      "source": [
        "##  ¿Se observa alguna conexión entre sus tendencias? ¿Cree que los precios son estacionarios?"
      ]
    },
    {
      "cell_type": "code",
      "execution_count": 13,
      "metadata": {
        "colab": {
          "base_uri": "https://localhost:8080/",
          "height": 472
        },
        "id": "2CcBA0JoM5Q8",
        "outputId": "beb38d4e-b1d3-4e87-8783-518dbf94cda2"
      },
      "outputs": [
        {
          "data": {
            "image/png": "[encoded data removed]",
            "text/plain": [
              "<Figure size 640x480 with 1 Axes>"
            ]
          },
          "metadata": {},
          "output_type": "display_data"
        }
      ],
      "source": [
        "fig, ax = plt.subplots()\n",
        "ax.plot(data['SPY'].index,data.SPY,label=\"SPY\",color=\"blue\",alpha=0.7)\n",
        "ax.plot(data.index,data.JPM,label=\"JPM\",color=\"red\",alpha=0.7)\n",
        "plt.title(\"SPY & JPM Stock Prices to 1993-2023\")\n",
        "plt.legend()\n",
        "plt.xlabel(\"Date\")\n",
        "plt.ylabel(\"Adj Close Price\")\n",
        "plt.show()"
      ]
    },
    {
      "cell_type": "markdown",
      "metadata": {
        "id": "jjnBNddoTNGu"
      },
      "source": [
        "Esto se puede determinar visualmente a partir de la gráfica. Si las líneas tienden a moverse de manera similar (por ejemplo, si ambos activos suben o bajan juntos), hay una conexión en las tendencias."
      ]
    },
    {
      "cell_type": "markdown",
      "metadata": {
        "id": "r_fUs2kgTa3Q"
      },
      "source": [
        " Esta es una cuestión más compleja y requiere un análisis estadístico. No se puede determinar visualmente desde una gráfica. Se necesitaría realizar pruebas específicas de estacionariedad de series temporales.\n"
      ]
    },
    {
      "cell_type": "code",
      "execution_count": 14,
      "metadata": {
        "colab": {
          "base_uri": "https://localhost:8080/"
        },
        "id": "7Fc3qqrhYpQD",
        "outputId": "1de714f0-6a31-41e5-fd89-d086623e7f7a"
      },
      "outputs": [
        {
          "name": "stdout",
          "output_type": "stream",
          "text": [
            "Resultados de la prueba ADF para SPY:\n",
            "Estadística ADF: 1.9685877517412884\n",
            "Valor p: 0.9986307172945964\n",
            "Valores críticos: {'1%': -3.4312029782452327, '5%': -2.8619169530282487, '10%': -2.5669706475785405}\n",
            "Número de retrasos utilizados: 36\n",
            "\n",
            "Resultados de la prueba ADF para JPM:\n",
            "Estadística ADF: 0.29781941716467736\n",
            "Valor p: 0.9772442211028899\n",
            "Valores críticos: {'1%': -3.431202644591467, '5%': -2.8619168055992206, '10%': -2.5669705691001825}\n",
            "Número de retrasos utilizados: 33\n"
          ]
        }
      ],
      "source": [
        "from statsmodels.tsa.stattools import adfuller\n",
        "def adf_test(series):\n",
        "    result = adfuller(series, autolag='AIC')\n",
        "    print('Estadística ADF:', result[0])\n",
        "    print('Valor p:', result[1])\n",
        "    print('Valores críticos:', result[4])\n",
        "    print('Número de retrasos utilizados:', result[2])\n",
        "\n",
        "print('Resultados de la prueba ADF para SPY:')\n",
        "adf_test(data['SPY'])\n",
        "\n",
        "print('\\nResultados de la prueba ADF para JPM:')\n",
        "adf_test(data['JPM'])"
      ]
    },
    {
      "cell_type": "markdown",
      "metadata": {
        "id": "cEqLPJM7lxiZ"
      },
      "source": [
        "La prueba ADF devuelve una estadística ADF y un valor p. Un valor p bajo (generalmente menor que 0.05) indica que la serie es estacionaria. Si los precios de cualquiera de los activos no son estacionarios, es posible que desees aplicar transformaciones (como diferenciación) para hacer que la serie sea estacionaria antes de realizar análisis de series temporales más avanzados."
      ]
    },
    {
      "cell_type": "markdown",
      "metadata": {
        "id": "QrqVcyJumRmL"
      },
      "source": [
        "# 3.Calculo de Retornos y Varianza de cada activo"
      ]
    },
    {
      "cell_type": "code",
      "execution_count": 15,
      "metadata": {
        "id": "9nCQdXbEVDDl"
      },
      "outputs": [],
      "source": [
        "##Calculo de Retornos de cada activo\n",
        "log_returns = np.log(1 + data.pct_change())\n",
        "cov=log_returns.cov()*252\n",
        "cor=log_returns.corr()"
      ]
    },
    {
      "cell_type": "code",
      "execution_count": 16,
      "metadata": {
        "colab": {
          "base_uri": "https://localhost:8080/",
          "height": 455
        },
        "id": "EyTyK2ncM5Q8",
        "outputId": "15feda99-98d3-419a-e1e1-ed46bd4da880"
      },
      "outputs": [
        {
          "data": {
            "text/html": [
              "<div>\n",
              "<style scoped>\n",
              "    .dataframe tbody tr th:only-of-type {\n",
              "        vertical-align: middle;\n",
              "    }\n",
              "\n",
              "    .dataframe tbody tr th {\n",
              "        vertical-align: top;\n",
              "    }\n",
              "\n",
              "    .dataframe thead th {\n",
              "        text-align: right;\n",
              "    }\n",
              "</style>\n",
              "<table border=\"1\" class=\"dataframe\">\n",
              "  <thead>\n",
              "    <tr style=\"text-align: right;\">\n",
              "      <th></th>\n",
              "      <th>SPY</th>\n",
              "      <th>JPM</th>\n",
              "    </tr>\n",
              "    <tr>\n",
              "      <th>Date</th>\n",
              "      <th></th>\n",
              "      <th></th>\n",
              "    </tr>\n",
              "  </thead>\n",
              "  <tbody>\n",
              "    <tr>\n",
              "      <th>1993-01-29</th>\n",
              "      <td>NaN</td>\n",
              "      <td>NaN</td>\n",
              "    </tr>\n",
              "    <tr>\n",
              "      <th>1993-02-01</th>\n",
              "      <td>0.007087</td>\n",
              "      <td>0.009188</td>\n",
              "    </tr>\n",
              "    <tr>\n",
              "      <th>1993-02-02</th>\n",
              "      <td>0.002116</td>\n",
              "      <td>0.003044</td>\n",
              "    </tr>\n",
              "    <tr>\n",
              "      <th>1993-02-03</th>\n",
              "      <td>0.010516</td>\n",
              "      <td>0.012085</td>\n",
              "    </tr>\n",
              "    <tr>\n",
              "      <th>1993-02-04</th>\n",
              "      <td>0.004175</td>\n",
              "      <td>0.011940</td>\n",
              "    </tr>\n",
              "    <tr>\n",
              "      <th>...</th>\n",
              "      <td>...</td>\n",
              "      <td>...</td>\n",
              "    </tr>\n",
              "    <tr>\n",
              "      <th>2023-08-30</th>\n",
              "      <td>0.004110</td>\n",
              "      <td>-0.004041</td>\n",
              "    </tr>\n",
              "    <tr>\n",
              "      <th>2023-08-31</th>\n",
              "      <td>-0.001464</td>\n",
              "      <td>-0.012428</td>\n",
              "    </tr>\n",
              "    <tr>\n",
              "      <th>2023-09-01</th>\n",
              "      <td>0.001863</td>\n",
              "      <td>0.003343</td>\n",
              "    </tr>\n",
              "    <tr>\n",
              "      <th>2023-09-05</th>\n",
              "      <td>-0.004331</td>\n",
              "      <td>-0.011095</td>\n",
              "    </tr>\n",
              "    <tr>\n",
              "      <th>2023-09-06</th>\n",
              "      <td>-0.006745</td>\n",
              "      <td>-0.001654</td>\n",
              "    </tr>\n",
              "  </tbody>\n",
              "</table>\n",
              "<p>7706 rows × 2 columns</p>\n",
              "</div>"
            ],
            "text/plain": [
              "                 SPY       JPM\n",
              "Date                          \n",
              "1993-01-29       NaN       NaN\n",
              "1993-02-01  0.007087  0.009188\n",
              "1993-02-02  0.002116  0.003044\n",
              "1993-02-03  0.010516  0.012085\n",
              "1993-02-04  0.004175  0.011940\n",
              "...              ...       ...\n",
              "2023-08-30  0.004110 -0.004041\n",
              "2023-08-31 -0.001464 -0.012428\n",
              "2023-09-01  0.001863  0.003343\n",
              "2023-09-05 -0.004331 -0.011095\n",
              "2023-09-06 -0.006745 -0.001654\n",
              "\n",
              "[7706 rows x 2 columns]"
            ]
          },
          "metadata": {},
          "output_type": "display_data"
        }
      ],
      "source": [
        "display(log_returns)"
      ]
    },
    {
      "cell_type": "markdown",
      "metadata": {
        "id": "WjZ9UqfsXRtT"
      },
      "source": [
        "## Calculo de media,varianza de los retornos de cada activos"
      ]
    },
    {
      "cell_type": "code",
      "execution_count": 17,
      "metadata": {
        "id": "iMFuU086M5Q9"
      },
      "outputs": [],
      "source": [
        "def medidas(data):\n",
        "    data=pd.DataFrame({'Media': round(log_returns.mean()*252,2),\"Varianza\":round(log_returns.var()*252,2)})\n",
        "\n",
        "    return data"
      ]
    },
    {
      "cell_type": "code",
      "execution_count": 18,
      "metadata": {
        "colab": {
          "base_uri": "https://localhost:8080/",
          "height": 112
        },
        "id": "zycFptJ6M5Q-",
        "outputId": "8f938efa-af4c-478d-f6a5-2ac943598a74"
      },
      "outputs": [
        {
          "data": {
            "text/html": [
              "<div>\n",
              "<style scoped>\n",
              "    .dataframe tbody tr th:only-of-type {\n",
              "        vertical-align: middle;\n",
              "    }\n",
              "\n",
              "    .dataframe tbody tr th {\n",
              "        vertical-align: top;\n",
              "    }\n",
              "\n",
              "    .dataframe thead th {\n",
              "        text-align: right;\n",
              "    }\n",
              "</style>\n",
              "<table border=\"1\" class=\"dataframe\">\n",
              "  <thead>\n",
              "    <tr style=\"text-align: right;\">\n",
              "      <th></th>\n",
              "      <th>Media</th>\n",
              "      <th>Varianza</th>\n",
              "    </tr>\n",
              "  </thead>\n",
              "  <tbody>\n",
              "    <tr>\n",
              "      <th>SPY</th>\n",
              "      <td>0.09</td>\n",
              "      <td>0.04</td>\n",
              "    </tr>\n",
              "    <tr>\n",
              "      <th>JPM</th>\n",
              "      <td>0.11</td>\n",
              "      <td>0.13</td>\n",
              "    </tr>\n",
              "  </tbody>\n",
              "</table>\n",
              "</div>"
            ],
            "text/plain": [
              "     Media  Varianza\n",
              "SPY   0.09      0.04\n",
              "JPM   0.11      0.13"
            ]
          },
          "execution_count": 18,
          "metadata": {},
          "output_type": "execute_result"
        }
      ],
      "source": [
        "medidas(log_returns)"
      ]
    },
    {
      "cell_type": "markdown",
      "metadata": {
        "id": "8VeiH6uSxH26"
      },
      "source": [
        "# 4. Matriz de Varianza y Correlacion"
      ]
    },
    {
      "cell_type": "code",
      "execution_count": 19,
      "metadata": {
        "colab": {
          "base_uri": "https://localhost:8080/",
          "height": 112
        },
        "id": "D2qPvJ8VmzDQ",
        "outputId": "6bcfbbaa-2902-415d-d57c-8706c1e577b4"
      },
      "outputs": [
        {
          "data": {
            "text/html": [
              "<div>\n",
              "<style scoped>\n",
              "    .dataframe tbody tr th:only-of-type {\n",
              "        vertical-align: middle;\n",
              "    }\n",
              "\n",
              "    .dataframe tbody tr th {\n",
              "        vertical-align: top;\n",
              "    }\n",
              "\n",
              "    .dataframe thead th {\n",
              "        text-align: right;\n",
              "    }\n",
              "</style>\n",
              "<table border=\"1\" class=\"dataframe\">\n",
              "  <thead>\n",
              "    <tr style=\"text-align: right;\">\n",
              "      <th></th>\n",
              "      <th>SPY</th>\n",
              "      <th>JPM</th>\n",
              "    </tr>\n",
              "  </thead>\n",
              "  <tbody>\n",
              "    <tr>\n",
              "      <th>SPY</th>\n",
              "      <td>1.000000</td>\n",
              "      <td>0.707482</td>\n",
              "    </tr>\n",
              "    <tr>\n",
              "      <th>JPM</th>\n",
              "      <td>0.707482</td>\n",
              "      <td>1.000000</td>\n",
              "    </tr>\n",
              "  </tbody>\n",
              "</table>\n",
              "</div>"
            ],
            "text/plain": [
              "          SPY       JPM\n",
              "SPY  1.000000  0.707482\n",
              "JPM  0.707482  1.000000"
            ]
          },
          "execution_count": 19,
          "metadata": {},
          "output_type": "execute_result"
        }
      ],
      "source": [
        "log_returns.corr()"
      ]
    },
    {
      "cell_type": "code",
      "execution_count": 20,
      "metadata": {
        "colab": {
          "base_uri": "https://localhost:8080/",
          "height": 1000
        },
        "id": "sh68D9b8pQ-Z",
        "outputId": "f1ea0ea9-e3b8-4ac5-a2d7-6275b847385b"
      },
      "outputs": [
        {
          "data": {
            "image/png": "[encoded data removed]",
            "text/plain": [
              "<Figure size 800x600 with 2 Axes>"
            ]
          },
          "metadata": {},
          "output_type": "display_data"
        },
        {
          "data": {
            "image/png": "[encoded data removed]",
            "text/plain": [
              "<Figure size 800x600 with 2 Axes>"
            ]
          },
          "metadata": {},
          "output_type": "display_data"
        }
      ],
      "source": [
        "plt.figure(figsize=(8, 6))\n",
        "sns.heatmap(cov, linecolor=\"white\", robust=False, fmt=\".2g\", annot=True)\n",
        "plt.title('Matriz de Covarianza')\n",
        "plt.show()\n",
        "\n",
        "plt.figure(figsize=(8, 6))\n",
        "sns.heatmap(cor, linecolor=\"black\", robust=False, annot=True)\n",
        "plt.title('Matriz de Correlación')\n",
        "plt.show()"
      ]
    },
    {
      "cell_type": "markdown",
      "metadata": {
        "id": "tpK6VTVWw6c2"
      },
      "source": [
        "# 5 Graficas de Retornos y prueba de estacionariedad"
      ]
    },
    {
      "cell_type": "code",
      "execution_count": 21,
      "metadata": {
        "colab": {
          "base_uri": "https://localhost:8080/",
          "height": 542
        },
        "id": "KhH8NLbYM5Q-",
        "outputId": "6963dcd0-ff73-43e5-d8fa-716040b613f2"
      },
      "outputs": [
        {
          "ename": "ValueError",
          "evalue": "Mime type rendering requires nbformat>=4.2.0 but it is not installed",
          "output_type": "error",
          "traceback": [
            "\u001b[1;31m---------------------------------------------------------------------------\u001b[0m",
            "\u001b[1;31mValueError\u001b[0m                                Traceback (most recent call last)",
            "Cell \u001b[1;32mIn[21], line 9\u001b[0m\n\u001b[0;32m      7\u001b[0m fig \u001b[39m=\u001b[39m go\u001b[39m.\u001b[39mFigure(data\u001b[39m=\u001b[39m[trace1, trace2, trace3, trace4])\n\u001b[0;32m      8\u001b[0m fig\u001b[39m.\u001b[39mupdate_layout(title\u001b[39m=\u001b[39m\u001b[39m'\u001b[39m\u001b[39mReturn Time Series to SPY & JPM\u001b[39m\u001b[39m'\u001b[39m)\n\u001b[1;32m----> 9\u001b[0m fig\u001b[39m.\u001b[39;49mshow()\n\u001b[0;32m     10\u001b[0m plt\u001b[39m.\u001b[39mshow()\n",
            "File \u001b[1;32m~\\AppData\\Local\\Packages\\PythonSoftwareFoundation.Python.3.10_qbz5n2kfra8p0\\LocalCache\\local-packages\\Python310\\site-packages\\plotly\\basedatatypes.py:3409\u001b[0m, in \u001b[0;36mBaseFigure.show\u001b[1;34m(self, *args, **kwargs)\u001b[0m\n\u001b[0;32m   3376\u001b[0m \u001b[39m\u001b[39m\u001b[39m\"\"\"\u001b[39;00m\n\u001b[0;32m   3377\u001b[0m \u001b[39mShow a figure using either the default renderer(s) or the renderer(s)\u001b[39;00m\n\u001b[0;32m   3378\u001b[0m \u001b[39mspecified by the renderer argument\u001b[39;00m\n\u001b[1;32m   (...)\u001b[0m\n\u001b[0;32m   3405\u001b[0m \u001b[39mNone\u001b[39;00m\n\u001b[0;32m   3406\u001b[0m \u001b[39m\"\"\"\u001b[39;00m\n\u001b[0;32m   3407\u001b[0m \u001b[39mimport\u001b[39;00m \u001b[39mplotly\u001b[39;00m\u001b[39m.\u001b[39;00m\u001b[39mio\u001b[39;00m \u001b[39mas\u001b[39;00m \u001b[39mpio\u001b[39;00m\n\u001b[1;32m-> 3409\u001b[0m \u001b[39mreturn\u001b[39;00m pio\u001b[39m.\u001b[39mshow(\u001b[39mself\u001b[39m, \u001b[39m*\u001b[39margs, \u001b[39m*\u001b[39m\u001b[39m*\u001b[39mkwargs)\n",
            "File \u001b[1;32m~\\AppData\\Local\\Packages\\PythonSoftwareFoundation.Python.3.10_qbz5n2kfra8p0\\LocalCache\\local-packages\\Python310\\site-packages\\plotly\\io\\_renderers.py:396\u001b[0m, in \u001b[0;36mshow\u001b[1;34m(fig, renderer, validate, **kwargs)\u001b[0m\n\u001b[0;32m    391\u001b[0m         \u001b[39mraise\u001b[39;00m \u001b[39mValueError\u001b[39;00m(\n\u001b[0;32m    392\u001b[0m             \u001b[39m\"\u001b[39m\u001b[39mMime type rendering requires ipython but it is not installed\u001b[39m\u001b[39m\"\u001b[39m\n\u001b[0;32m    393\u001b[0m         )\n\u001b[0;32m    395\u001b[0m     \u001b[39mif\u001b[39;00m \u001b[39mnot\u001b[39;00m nbformat \u001b[39mor\u001b[39;00m Version(nbformat\u001b[39m.\u001b[39m__version__) \u001b[39m<\u001b[39m Version(\u001b[39m\"\u001b[39m\u001b[39m4.2.0\u001b[39m\u001b[39m\"\u001b[39m):\n\u001b[1;32m--> 396\u001b[0m         \u001b[39mraise\u001b[39;00m \u001b[39mValueError\u001b[39;00m(\n\u001b[0;32m    397\u001b[0m             \u001b[39m\"\u001b[39m\u001b[39mMime type rendering requires nbformat>=4.2.0 but it is not installed\u001b[39m\u001b[39m\"\u001b[39m\n\u001b[0;32m    398\u001b[0m         )\n\u001b[0;32m    400\u001b[0m     ipython_display\u001b[39m.\u001b[39mdisplay(bundle, raw\u001b[39m=\u001b[39m\u001b[39mTrue\u001b[39;00m)\n\u001b[0;32m    402\u001b[0m \u001b[39m# external renderers\u001b[39;00m\n",
            "\u001b[1;31mValueError\u001b[0m: Mime type rendering requires nbformat>=4.2.0 but it is not installed"
          ]
        }
      ],
      "source": [
        "log_returns = np.log(1 + data.pct_change())\n",
        "cov=log_returns.cov()*252\n",
        "trace1 = go.Scatter(x=log_returns.index, y=log_returns.values[:,0], mode='lines', name='SPY')\n",
        "trace2 = go.Scatter(x=log_returns.index, y=log_returns.values[:,1], mode='lines', name='JPM')\n",
        "trace3 = go.Scatter(x=log_returns.index, y=log_returns['SPY'], mode='markers', name='SPY Points', marker=dict(size=4))\n",
        "trace4 = go.Scatter(x=log_returns.index, y=log_returns['JPM'], mode='markers', name='JPM Points', marker=dict(size=4))\n",
        "fig = go.Figure(data=[trace1, trace2, trace3, trace4])\n",
        "fig.update_layout(title='Return Time Series to SPY & JPM')\n",
        "fig.show()\n",
        "plt.show()"
      ]
    },
    {
      "cell_type": "markdown",
      "metadata": {
        "id": "HoPa5p3wvinY"
      },
      "source": [
        "Se evidencia que se observa que si hay diferencias significativas en las tendencias o en la volatilidad de estos dos activos financieros.No obstante,la disparidad significativa podría manifestarse en diferencias notables en la magnitud o la dirección de los retornos a lo largo del tiempo."
      ]
    },
    {
      "cell_type": "code",
      "execution_count": null,
      "metadata": {
        "colab": {
          "base_uri": "https://localhost:8080/"
        },
        "id": "BLFiKYt6VAIB",
        "outputId": "446f8c7d-8130-4bba-d872-0e79c0eb85a8"
      },
      "outputs": [
        {
          "name": "stdout",
          "output_type": "stream",
          "text": [
            "Prueba ADF para SPY:\n",
            "Estadística ADF: -16.334214874884207\n",
            "Valor p: 3.0399271566085905e-29\n",
            "Valores críticos: {'1%': -3.431202755780382, '5%': -2.8619168547294147, '10%': -2.5669705952528132}\n",
            "\n",
            "Prueba ADF para JPM:\n",
            "Estadística ADF: -15.6986079653627\n",
            "Valor p: 1.4050948692748114e-28\n",
            "Valores críticos: {'1%': -3.4312029782452327, '5%': -2.8619169530282487, '10%': -2.5669706475785405}\n"
          ]
        }
      ],
      "source": [
        "# Realizar la prueba ADF en los retornos de SPY\n",
        "result_spy = adfuller(log_returns['SPY'].dropna())\n",
        "print(\"Prueba ADF para SPY:\")\n",
        "print(\"Estadística ADF:\", result_spy[0])\n",
        "print(\"Valor p:\", result_spy[1])\n",
        "print(\"Valores críticos:\", result_spy[4])\n",
        "\n",
        "# Realizar la prueba ADF en los retornos de JPM\n",
        "result_jpm = adfuller(log_returns['JPM'].dropna())\n",
        "print(\"\\nPrueba ADF para JPM:\")\n",
        "print(\"Estadística ADF:\", result_jpm[0])\n",
        "print(\"Valor p:\", result_jpm[1])\n",
        "print(\"Valores críticos:\", result_jpm[4])"
      ]
    },
    {
      "cell_type": "markdown",
      "metadata": {
        "id": "y0F0KJ05uvkY"
      },
      "source": [
        "La Prueba ADF evalúa si una serie temporal tiene raíces unitarias (no estacionaria) o no. Un valor p bajo (generalmente menor que 0.05) indica que la serie es estacionaria.Se concluye que no estacionarias"
      ]
    }
  ],
  "metadata": {
    "colab": {
      "provenance": [],
      "toc_visible": true
    },
    "kernelspec": {
      "display_name": "Python 3 (ipykernel)",
      "language": "python",
      "name": "python3"
    },
    "language_info": {
      "codemirror_mode": {
        "name": "ipython",
        "version": 3
      },
      "file_extension": ".py",
      "mimetype": "text/x-python",
      "name": "python",
      "nbconvert_exporter": "python",
      "pygments_lexer": "ipython3",
      "version": "3.10.11"
    }
  },
  "nbformat": 4,
  "nbformat_minor": 0
}
