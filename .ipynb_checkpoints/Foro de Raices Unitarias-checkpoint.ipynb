{
 "cells": [
  {
   "cell_type": "markdown",
   "metadata": {},
   "source": [
    "# Primer Foro de Econometria 3 \n"
   ]
  },
  {
   "cell_type": "markdown",
   "metadata": {},
   "source": [
    "1. Cuales son las pruebas de raíces unitarias y sus características principales"
   ]
  },
  {
   "cell_type": "markdown",
   "metadata": {},
   "source": [
    "Las series de tiempo cumplen condiciones estacionarias si es que a medida que vayamos rezagando la expresion,veremos  que los efectos marginales deban ser menos iguales a 1 para que cada vez los nuevos errores sean geometricamente menor.Luego a medida que se rezaga infinitas veces sea el valor Yt converga en algun valor fijo en la medida que el rezago aumenta."
   ]
  },
  {
   "cell_type": "markdown",
   "metadata": {},
   "source": [
    "$$\n",
    "y_{t} = a_{0}[1 + a_{1}^2 + \\ldots + a_{1}^m] + \\sum_{i=0}^{m} a_{1}^i \\varepsilon_{t-i} + a_{1}^{m+1} y_{t-m-1}\n",
    "$$\n"
   ]
  },
  {
   "cell_type": "markdown",
   "metadata": {},
   "source": [
    "Luego a medida que se rezaga infinitas veces sea el valor Yt converga en algun valor fijo en la medida que el rezago aumenta."
   ]
  },
  {
   "cell_type": "markdown",
   "metadata": {},
   "source": [
    "$$\n",
    "y_{t}=\\frac{a_{0}}{1-a_{1}}+\\sum_{i=0}^\\infty a_{1}^i\\varepsilon_{t-i}\n",
    "$$"
   ]
  },
  {
   "cell_type": "markdown",
   "metadata": {},
   "source": [
    "Sin embargo aun existe posibilidad de involucrarse con procesos estocaticos mas complejos,por que ello es que las pruebas de raices unitarias,ya que son un conjunto de técnicas estadísticas que se utilizan para determinar si una serie temporal es estacionaria o no estacionaria. Una serie temporal es estacionaria si su media y varianza son constantes a lo largo del tiempo. Si una serie temporal no es estacionaria, entonces se dice que es no estacionaria.\n",
    "\n",
    "Existen varias pruebas de raíces unitarias diferentes, pero las más comunes son la prueba de Dickey-Fuller aumentada (ADF) y la prueba de Kwiatkowski-Phillips-Schmidt-Shin (KPSS). La prueba ADF es una prueba de hipótesis nula que supone que la serie temporal es no estacionaria y luego intenta rechazar esa hipótesis. La prueba KPSS es una prueba de hipótesis nula que supone que la serie temporal es estacionaria y luego intenta rechazar esa hipótesis.\n",
    "\n",
    "La prueba ADF es más potente que la prueba KPSS, pero también es más sensible a los errores de especificación del modelo. La prueba KPSS es menos potente que la prueba ADF, pero también es menos sensible a los errores de especificación del modelo.\n",
    "\n",
    "A continuación se presentan las características principales de las pruebas de raíces unitarias:\n",
    "\n",
    "* Las pruebas de raíces unitarias se utilizan para determinar si una serie temporal es estacionaria o no estacionaria.\n",
    "* La prueba ADF es una prueba de hipótesis nula que supone que la serie temporal es no estacionaria y luego intenta rechazar esa hipótesis.\n",
    "* La prueba KPSS es una prueba de hipótesis nula que supone que la serie temporal es estacionaria y luego intenta rechazar esa hipótesis.\n",
    "* La prueba ADF es más potente que la prueba KPSS, pero también es más sensible a los errores de especificación del modelo.\n",
    "* La prueba KPSS es menos potente que la prueba ADF, pero también es menos sensible a los errores de especificación del modelo."
   ]
  },
  {
   "cell_type": "markdown",
   "metadata": {},
   "source": []
  },
  {
   "cell_type": "code",
   "execution_count": 1,
   "metadata": {},
   "outputs": [
    {
     "name": "stdout",
     "output_type": "stream",
     "text": [
      "Requirement already satisfied: statsmodels in c:\\users\\ediso\\anaconda3\\lib\\site-packages (0.13.5)\n",
      "Requirement already satisfied: pandas>=0.25 in c:\\users\\ediso\\anaconda3\\lib\\site-packages (from statsmodels) (1.5.3)\n",
      "Requirement already satisfied: patsy>=0.5.2 in c:\\users\\ediso\\anaconda3\\lib\\site-packages (from statsmodels) (0.5.3)\n",
      "Requirement already satisfied: packaging>=21.3 in c:\\users\\ediso\\anaconda3\\lib\\site-packages (from statsmodels) (23.0)\n",
      "Requirement already satisfied: scipy>=1.3 in c:\\users\\ediso\\anaconda3\\lib\\site-packages (from statsmodels) (1.10.1)\n",
      "Requirement already satisfied: numpy>=1.17 in c:\\users\\ediso\\anaconda3\\lib\\site-packages (from statsmodels) (1.24.3)\n",
      "Requirement already satisfied: python-dateutil>=2.8.1 in c:\\users\\ediso\\anaconda3\\lib\\site-packages (from pandas>=0.25->statsmodels) (2.8.2)\n",
      "Requirement already satisfied: pytz>=2020.1 in c:\\users\\ediso\\anaconda3\\lib\\site-packages (from pandas>=0.25->statsmodels) (2022.7)\n",
      "Requirement already satisfied: six in c:\\users\\ediso\\anaconda3\\lib\\site-packages (from patsy>=0.5.2->statsmodels) (1.16.0)\n",
      "Note: you may need to restart the kernel to use updated packages.\n"
     ]
    }
   ],
   "source": [
    "pip install statsmodels"
   ]
  },
  {
   "cell_type": "code",
   "execution_count": 4,
   "metadata": {},
   "outputs": [
    {
     "data": {
      "text/html": [
       "<div>\n",
       "<style scoped>\n",
       "    .dataframe tbody tr th:only-of-type {\n",
       "        vertical-align: middle;\n",
       "    }\n",
       "\n",
       "    .dataframe tbody tr th {\n",
       "        vertical-align: top;\n",
       "    }\n",
       "\n",
       "    .dataframe thead th {\n",
       "        text-align: right;\n",
       "    }\n",
       "</style>\n",
       "<table border=\"1\" class=\"dataframe\">\n",
       "  <thead>\n",
       "    <tr style=\"text-align: right;\">\n",
       "      <th></th>\n",
       "      <th>SPY</th>\n",
       "      <th>JPM</th>\n",
       "    </tr>\n",
       "    <tr>\n",
       "      <th>Date</th>\n",
       "      <th></th>\n",
       "      <th></th>\n",
       "    </tr>\n",
       "  </thead>\n",
       "  <tbody>\n",
       "    <tr>\n",
       "      <th>1993-01-29</th>\n",
       "      <td>25.029371</td>\n",
       "      <td>5.512947</td>\n",
       "    </tr>\n",
       "    <tr>\n",
       "      <th>1993-02-01</th>\n",
       "      <td>25.207396</td>\n",
       "      <td>5.563839</td>\n",
       "    </tr>\n",
       "    <tr>\n",
       "      <th>1993-02-02</th>\n",
       "      <td>25.260782</td>\n",
       "      <td>5.580800</td>\n",
       "    </tr>\n",
       "    <tr>\n",
       "      <th>1993-02-03</th>\n",
       "      <td>25.527830</td>\n",
       "      <td>5.648649</td>\n",
       "    </tr>\n",
       "    <tr>\n",
       "      <th>1993-02-04</th>\n",
       "      <td>25.634630</td>\n",
       "      <td>5.716505</td>\n",
       "    </tr>\n",
       "    <tr>\n",
       "      <th>...</th>\n",
       "      <td>...</td>\n",
       "      <td>...</td>\n",
       "    </tr>\n",
       "    <tr>\n",
       "      <th>2023-09-01</th>\n",
       "      <td>451.190002</td>\n",
       "      <td>146.820007</td>\n",
       "    </tr>\n",
       "    <tr>\n",
       "      <th>2023-09-05</th>\n",
       "      <td>449.239990</td>\n",
       "      <td>145.199997</td>\n",
       "    </tr>\n",
       "    <tr>\n",
       "      <th>2023-09-06</th>\n",
       "      <td>446.220001</td>\n",
       "      <td>144.960007</td>\n",
       "    </tr>\n",
       "    <tr>\n",
       "      <th>2023-09-07</th>\n",
       "      <td>444.850006</td>\n",
       "      <td>143.720001</td>\n",
       "    </tr>\n",
       "    <tr>\n",
       "      <th>2023-09-08</th>\n",
       "      <td>445.519989</td>\n",
       "      <td>143.830002</td>\n",
       "    </tr>\n",
       "  </tbody>\n",
       "</table>\n",
       "<p>7708 rows × 2 columns</p>\n",
       "</div>"
      ],
      "text/plain": [
       "                   SPY         JPM\n",
       "Date                              \n",
       "1993-01-29   25.029371    5.512947\n",
       "1993-02-01   25.207396    5.563839\n",
       "1993-02-02   25.260782    5.580800\n",
       "1993-02-03   25.527830    5.648649\n",
       "1993-02-04   25.634630    5.716505\n",
       "...                ...         ...\n",
       "2023-09-01  451.190002  146.820007\n",
       "2023-09-05  449.239990  145.199997\n",
       "2023-09-06  446.220001  144.960007\n",
       "2023-09-07  444.850006  143.720001\n",
       "2023-09-08  445.519989  143.830002\n",
       "\n",
       "[7708 rows x 2 columns]"
      ]
     },
     "metadata": {},
     "output_type": "display_data"
    }
   ],
   "source": [
    "import pandas as pd\n",
    "import yfinance as yf\n",
    "tickers = ['SPY','JPM']\n",
    "serie_temporal = pd.DataFrame()\n",
    "for t in tickers:\n",
    "     serie_temporal[t]=tickers_data=yf.download(t, start=\"1993-01-29\", progress=False)['Adj Close']\n",
    "\n",
    "display(serie_temporal)"
   ]
  },
  {
   "cell_type": "markdown",
   "metadata": {},
   "source": [
    "## Prueba de Dickey-Fuller:"
   ]
  },
  {
   "cell_type": "markdown",
   "metadata": {},
   "source": [
    "La Prueba de Dickey-Fuller se utiliza para verificar si una serie temporal tiene una raíz unitaria"
   ]
  },
  {
   "cell_type": "markdown",
   "metadata": {},
   "source": [
    "2. Que  comandos se utilizan  para hacer las diferentes pruebas de raíces unitarias en Júpiter o Colab"
   ]
  },
  {
   "cell_type": "markdown",
   "metadata": {},
   "source": [
    "En Jupyter Notebook o Google Colab, puedes realizar pruebas de raíces unitarias utilizando bibliotecas de Python como statsmodels"
   ]
  },
  {
   "cell_type": "code",
   "execution_count": 5,
   "metadata": {},
   "outputs": [
    {
     "ename": "ValueError",
     "evalue": "x is required to have ndim 1 but has ndim 2",
     "output_type": "error",
     "traceback": [
      "\u001b[1;31m---------------------------------------------------------------------------\u001b[0m",
      "\u001b[1;31mValueError\u001b[0m                                Traceback (most recent call last)",
      "Cell \u001b[1;32mIn[5], line 5\u001b[0m\n\u001b[0;32m      2\u001b[0m \u001b[38;5;28;01mfrom\u001b[39;00m \u001b[38;5;21;01mstatsmodels\u001b[39;00m\u001b[38;5;21;01m.\u001b[39;00m\u001b[38;5;21;01mtsa\u001b[39;00m\u001b[38;5;21;01m.\u001b[39;00m\u001b[38;5;21;01mstattools\u001b[39;00m \u001b[38;5;28;01mimport\u001b[39;00m adfuller\n\u001b[0;32m      4\u001b[0m \u001b[38;5;66;03m# Supongamos que 'serie_temporal' es tu serie de tiempo\u001b[39;00m\n\u001b[1;32m----> 5\u001b[0m resultado \u001b[38;5;241m=\u001b[39m adfuller(serie_temporal)\n\u001b[0;32m      6\u001b[0m \u001b[38;5;28mprint\u001b[39m(\u001b[38;5;124m\"\u001b[39m\u001b[38;5;124mEstadística de prueba:\u001b[39m\u001b[38;5;124m\"\u001b[39m, resultado[\u001b[38;5;241m0\u001b[39m])\n\u001b[0;32m      7\u001b[0m \u001b[38;5;28mprint\u001b[39m(\u001b[38;5;124m\"\u001b[39m\u001b[38;5;124mValor crítico 1\u001b[39m\u001b[38;5;124m%\u001b[39m\u001b[38;5;124m:\u001b[39m\u001b[38;5;124m\"\u001b[39m, resultado[\u001b[38;5;241m4\u001b[39m][\u001b[38;5;124m'\u001b[39m\u001b[38;5;124m1\u001b[39m\u001b[38;5;124m%\u001b[39m\u001b[38;5;124m'\u001b[39m])\n",
      "File \u001b[1;32m~\\anaconda3\\Lib\\site-packages\\statsmodels\\tsa\\stattools.py:260\u001b[0m, in \u001b[0;36madfuller\u001b[1;34m(x, maxlag, regression, autolag, store, regresults)\u001b[0m\n\u001b[0;32m    165\u001b[0m \u001b[38;5;28;01mdef\u001b[39;00m \u001b[38;5;21madfuller\u001b[39m(\n\u001b[0;32m    166\u001b[0m     x,\n\u001b[0;32m    167\u001b[0m     maxlag: \u001b[38;5;28mint\u001b[39m \u001b[38;5;241m|\u001b[39m \u001b[38;5;28;01mNone\u001b[39;00m \u001b[38;5;241m=\u001b[39m \u001b[38;5;28;01mNone\u001b[39;00m,\n\u001b[1;32m   (...)\u001b[0m\n\u001b[0;32m    171\u001b[0m     regresults\u001b[38;5;241m=\u001b[39m\u001b[38;5;28;01mFalse\u001b[39;00m,\n\u001b[0;32m    172\u001b[0m ):\n\u001b[0;32m    173\u001b[0m \u001b[38;5;250m    \u001b[39m\u001b[38;5;124;03m\"\"\"\u001b[39;00m\n\u001b[0;32m    174\u001b[0m \u001b[38;5;124;03m    Augmented Dickey-Fuller unit root test.\u001b[39;00m\n\u001b[0;32m    175\u001b[0m \n\u001b[1;32m   (...)\u001b[0m\n\u001b[0;32m    258\u001b[0m \u001b[38;5;124;03m    See example notebook\u001b[39;00m\n\u001b[0;32m    259\u001b[0m \u001b[38;5;124;03m    \"\"\"\u001b[39;00m\n\u001b[1;32m--> 260\u001b[0m     x \u001b[38;5;241m=\u001b[39m array_like(x, \u001b[38;5;124m\"\u001b[39m\u001b[38;5;124mx\u001b[39m\u001b[38;5;124m\"\u001b[39m)\n\u001b[0;32m    261\u001b[0m     maxlag \u001b[38;5;241m=\u001b[39m int_like(maxlag, \u001b[38;5;124m\"\u001b[39m\u001b[38;5;124mmaxlag\u001b[39m\u001b[38;5;124m\"\u001b[39m, optional\u001b[38;5;241m=\u001b[39m\u001b[38;5;28;01mTrue\u001b[39;00m)\n\u001b[0;32m    262\u001b[0m     regression \u001b[38;5;241m=\u001b[39m rename_trend(regression)\n",
      "File \u001b[1;32m~\\anaconda3\\Lib\\site-packages\\statsmodels\\tools\\validation\\validation.py:147\u001b[0m, in \u001b[0;36marray_like\u001b[1;34m(obj, name, dtype, ndim, maxdim, shape, order, contiguous, optional)\u001b[0m\n\u001b[0;32m    145\u001b[0m     \u001b[38;5;28;01mif\u001b[39;00m arr\u001b[38;5;241m.\u001b[39mndim \u001b[38;5;241m!=\u001b[39m ndim:\n\u001b[0;32m    146\u001b[0m         msg \u001b[38;5;241m=\u001b[39m \u001b[38;5;124m\"\u001b[39m\u001b[38;5;132;01m{0}\u001b[39;00m\u001b[38;5;124m is required to have ndim \u001b[39m\u001b[38;5;132;01m{1}\u001b[39;00m\u001b[38;5;124m but has ndim \u001b[39m\u001b[38;5;132;01m{2}\u001b[39;00m\u001b[38;5;124m\"\u001b[39m\n\u001b[1;32m--> 147\u001b[0m         \u001b[38;5;28;01mraise\u001b[39;00m \u001b[38;5;167;01mValueError\u001b[39;00m(msg\u001b[38;5;241m.\u001b[39mformat(name, ndim, arr\u001b[38;5;241m.\u001b[39mndim))\n\u001b[0;32m    148\u001b[0m \u001b[38;5;28;01mif\u001b[39;00m shape \u001b[38;5;129;01mis\u001b[39;00m \u001b[38;5;129;01mnot\u001b[39;00m \u001b[38;5;28;01mNone\u001b[39;00m:\n\u001b[0;32m    149\u001b[0m     \u001b[38;5;28;01mfor\u001b[39;00m actual, req \u001b[38;5;129;01min\u001b[39;00m \u001b[38;5;28mzip\u001b[39m(arr\u001b[38;5;241m.\u001b[39mshape, shape):\n",
      "\u001b[1;31mValueError\u001b[0m: x is required to have ndim 1 but has ndim 2"
     ]
    }
   ],
   "source": [
    "import statsmodels.api as sm\n",
    "from statsmodels.tsa.stattools import adfuller\n",
    "\n",
    "# Supongamos que 'serie_temporal' es tu serie de tiempo\n",
    "resultado = adfuller(serie_temporal)\n",
    "print(\"Estadística de prueba:\", resultado[0])\n",
    "print(\"Valor crítico 1%:\", resultado[4]['1%'])\n",
    "print(\"Valor crítico 5%:\", resultado[4]['5%'])\n",
    "print(\"Valor crítico 10%:\", resultado[4]['10%'])\n",
    "print(\"P-valor:\", resultado[1])\n",
    "\n",
    "if resultado[1] <= 0.05:\n",
    "    print(\"La serie es estacionaria (sin raíz unitaria)\")\n",
    "else:\n",
    "    print(\"La serie no es estacionaria (con raíz unitaria)\")\n"
   ]
  },
  {
   "cell_type": "code",
   "execution_count": null,
   "metadata": {},
   "outputs": [],
   "source": []
  },
  {
   "cell_type": "markdown",
   "metadata": {},
   "source": [
    "3. En que consiste en problema de quiebre estructural en series de tiempo y cuales son sus pruebas estadísticas para detectarlas"
   ]
  }
 ],
 "metadata": {
  "kernelspec": {
   "display_name": "Python 3 (ipykernel)",
   "language": "python",
   "name": "python3"
  },
  "language_info": {
   "codemirror_mode": {
    "name": "ipython",
    "version": 3
   },
   "file_extension": ".py",
   "mimetype": "text/x-python",
   "name": "python",
   "nbconvert_exporter": "python",
   "pygments_lexer": "ipython3",
   "version": "3.11.3"
  }
 },
 "nbformat": 4,
 "nbformat_minor": 2
}
